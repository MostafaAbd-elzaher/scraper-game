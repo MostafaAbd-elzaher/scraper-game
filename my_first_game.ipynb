{
 "cells": [
  {
   "cell_type": "code",
   "execution_count": 3,
   "id": "53546640",
   "metadata": {},
   "outputs": [
    {
     "name": "stdout",
     "output_type": "stream",
     "text": [
      "Collecting pygame\n",
      "  Downloading pygame-2.6.1-cp313-cp313-manylinux_2_17_x86_64.manylinux2014_x86_64.whl.metadata (12 kB)\n",
      "Downloading pygame-2.6.1-cp313-cp313-manylinux_2_17_x86_64.manylinux2014_x86_64.whl (14.0 MB)\n",
      "\u001b[2K   \u001b[90m━━━━━━━━━━━━━━━━━━━━━━━━━━━━━━━━━━━━━━━━\u001b[0m \u001b[32m14.0/14.0 MB\u001b[0m \u001b[31m31.7 kB/s\u001b[0m eta \u001b[36m0:00:00\u001b[0m00:02\u001b[0m00:17\u001b[0m\n",
      "\u001b[?25hInstalling collected packages: pygame\n",
      "Successfully installed pygame-2.6.1\n",
      "Note: you may need to restart the kernel to use updated packages.\n"
     ]
    }
   ],
   "source": [
    "pip install pygame\n"
   ]
  },
  {
   "cell_type": "code",
   "execution_count": 4,
   "id": "ee36a267",
   "metadata": {},
   "outputs": [
    {
     "name": "stdout",
     "output_type": "stream",
     "text": [
      "pygame 2.6.1 (SDL 2.28.4, Python 3.13.5)\n",
      "Hello from the pygame community. https://www.pygame.org/contribute.html\n"
     ]
    }
   ],
   "source": [
    "import pygame"
   ]
  },
  {
   "cell_type": "code",
   "execution_count": null,
   "id": "13c60730",
   "metadata": {},
   "outputs": [],
   "source": [
    "import pygame\n",
    "pygame.init()\n",
    "screen = pygame.display.set_mode((900, 600))\n",
    "pygame.display.set_caption(\"My First Game\")\n",
    "running = True\n",
    "velocity = 1\n",
    "x = 50\n",
    "y = 40\n",
    "width = 40\n",
    "height = 60\n",
    "\n",
    "while running:\n",
    "    for event in pygame.event.get():\n",
    "        if event.type == pygame.QUIT:\n",
    "            running = False\n",
    "    screen.fill((215, 214, 210)) # Fill the screen with black\n",
    "    pygame.draw.rect(screen, (75, 37, 28), (x, y, width, height))\n",
    "    pygame.display.flip() # Update the display\n",
    "    keys = pygame.key.get_pressed()\n",
    "    if keys[pygame.K_LEFT] and x > 0:\n",
    "        x -= velocity\n",
    "    if keys[pygame.K_RIGHT] and x < 800 - width:    \n",
    "        x += velocity\n",
    "    if keys[pygame.K_UP] and y > 0:\n",
    "        y -= velocity\n",
    "    if keys[pygame.K_DOWN] and y < 600 - height:\n",
    "        y += velocity\n",
    "    \n",
    "pygame.quit()\n",
    "\n"
   ]
  },
  {
   "cell_type": "code",
   "execution_count": 11,
   "id": "ce0418ed",
   "metadata": {},
   "outputs": [
    {
     "name": "stdout",
     "output_type": "stream",
     "text": [
      "pygame.key.ScancodeWrapper(False, False, False, False, False, False, False, False, False, False, False, False, False, False, False, False, False, False, False, False, False, False, False, False, False, False, False, False, False, False, False, False, False, False, False, False, False, False, False, False, False, False, False, False, False, False, False, False, False, False, False, False, False, False, False, False, False, False, False, False, False, False, False, False, False, False, False, False, False, False, False, False, False, False, False, False, False, False, False, False, False, False, False, False, False, False, False, False, False, False, False, False, False, False, False, False, False, False, False, False, False, False, False, False, False, False, False, False, False, False, False, False, False, False, False, False, False, False, False, False, False, False, False, False, False, False, False, False, False, False, False, False, False, False, False, False, False, False, False, False, False, False, False, False, False, False, False, False, False, False, False, False, False, False, False, False, False, False, False, False, False, False, False, False, False, False, False, False, False, False, False, False, False, False, False, False, False, False, False, False, False, False, False, False, False, False, False, False, False, False, False, False, False, False, False, False, False, False, False, False, False, False, False, False, False, False, False, False, False, False, False, False, False, False, False, False, False, False, False, False, False, False, False, False, False, False, False, False, False, False, False, False, False, False, False, False, False, False, False, False, False, False, False, False, False, False, False, False, False, False, False, False, False, False, False, False, False, False, False, False, False, False, False, False, False, False, False, False, False, False, False, False, False, False, False, False, False, False, False, False, False, False, False, False, False, False, False, False, False, False, False, False, False, False, False, False, False, False, False, False, False, False, False, False, False, False, False, False, False, False, False, False, False, False, False, False, False, False, False, False, False, False, False, False, False, False, False, False, False, False, False, False, False, False, False, False, False, False, False, False, False, False, False, False, False, False, False, False, False, False, False, False, False, False, False, False, False, False, False, False, False, False, False, False, False, False, False, False, False, False, False, False, False, False, False, False, False, False, False, False, False, False, False, False, False, False, False, False, False, False, False, False, False, False, False, False, False, False, False, False, False, False, False, False, False, False, False, False, False, False, False, False, False, False, False, False, False, False, False, False, False, False, False, False, False, False, False, False, False, False, False, False, False, False, False, False, False, False, False, False, False, False, False, False, False, False, False, False, False, False, False, False, False, False, False, False, False, False, False, False, False, False, False, False, False, False, False, False, False, False, False, False, False, False, False, False, False, False, False, False, False, False, False, False, False, False, False, False, False, False, False, False, False, False, False, False, False, False, False, False, False, False, False, False, False, False, False, False, False, False, False, False)\n"
     ]
    }
   ],
   "source": [
    "pygame.init()\n",
    "keys = pygame.key.get_pressed()\n",
    "print(keys)\n",
    "pygame.quit()"
   ]
  },
  {
   "cell_type": "code",
   "execution_count": 13,
   "id": "90a2c54d",
   "metadata": {},
   "outputs": [],
   "source": [
    "import pygame\n",
    "pygame.init()\n",
    "screen=pygame.display.set_mode((800,500),pygame.RESIZABLE)\n",
    "pygame.display.set_caption(\"made_by_me\")\n",
    "xrunning=True\n",
    "velocity=2\n",
    "x=50\n",
    "y=50\n",
    "while xrunning:\n",
    "    for event in pygame.event.get():\n",
    "        if event.type== pygame.QUIT:\n",
    "            xrunning=False\n",
    "    screen.fill((215, 214, 210))\n",
    "    rect=pygame.draw.circle(screen,(0,7,5),(x,y),30)\n",
    "    pygame.display.flip()\n",
    "    keys=pygame.key.get_pressed()\n",
    "    if keys[pygame.K_LEFT] and x > 30:\n",
    "        x-=velocity\n",
    "    if keys[pygame.K_RIGHT] and x < 770:\n",
    "        x+= velocity\n",
    "    if keys[pygame.K_UP] and y > 30:\n",
    "        y-=velocity\n",
    "    if keys[pygame.K_DOWN] and y < 470:\n",
    "        y+=velocity\n",
    "pygame.quit()        "
   ]
  },
  {
   "cell_type": "code",
   "execution_count": 11,
   "id": "bac051d6",
   "metadata": {},
   "outputs": [],
   "source": [
    "import pygame\n",
    "\n",
    "# 1. Initialize pygame\n",
    "pygame.init()\n",
    "\n",
    "# 2. Setup constants and variables (more organized)\n",
    "SCREEN_WIDTH = 1600\n",
    "SCREEN_HEIGHT = 900\n",
    "PLAYER_WIDTH = 40\n",
    "PLAYER_HEIGHT = 60\n",
    "VELOCITY = 5  # Increased velocity for noticeable movement\n",
    "FPS = 90      # Frames Per Second\n",
    "\n",
    "# Colors\n",
    "BLACK = (0, 0, 0)\n",
    "PLAYER_COLOR = (0, 128, 255)\n",
    "\n",
    "# 3. Create the window and clock\n",
    "screen = pygame.display.set_mode((SCREEN_WIDTH, SCREEN_HEIGHT), pygame.RESIZABLE)\n",
    "pygame.display.set_caption(\"Improved Game\")\n",
    "clock = pygame.time.Clock() # Create a Clock object to manage FPS\n",
    "\n",
    "# 4. Create the player using pygame.Rect\n",
    "# We create a Rect object at position (50, 40) with size (40, 60)\n",
    "player_rect = pygame.Rect(50, 40, PLAYER_WIDTH, PLAYER_HEIGHT)\n",
    "\n",
    "# 5. Main Game Loop\n",
    "running = True\n",
    "while running:\n",
    "    # Regulate the frame rate\n",
    "    clock.tick(FPS)\n",
    "\n",
    "    # Event Handling\n",
    "    for event in pygame.event.get():\n",
    "        if event.type == pygame.QUIT:\n",
    "            running = False\n",
    "\n",
    "    # Key presses for movement\n",
    "    keys = pygame.key.get_pressed()\n",
    "    if keys[pygame.K_LEFT] and player_rect.left > 0:\n",
    "        player_rect.x -= VELOCITY\n",
    "    if keys[pygame.K_RIGHT] and player_rect.right < SCREEN_WIDTH:\n",
    "        player_rect.x += VELOCITY\n",
    "    if keys[pygame.K_UP] and player_rect.top > 0:\n",
    "        player_rect.y -= VELOCITY\n",
    "    if keys[pygame.K_DOWN] and player_rect.bottom < SCREEN_HEIGHT:\n",
    "        player_rect.y += VELOCITY\n",
    "\n",
    "    # Drawing / Rendering\n",
    "    screen.fill(BLACK) # Use the constant for the color\n",
    "    pygame.draw.rect(screen, PLAYER_COLOR, player_rect) # Draw the Rect object\n",
    "    \n",
    "    # Update the display\n",
    "    pygame.display.flip()\n",
    "\n",
    "# 6. Quit the game\n",
    "pygame.quit()"
   ]
  },
  {
   "cell_type": "code",
   "execution_count": null,
   "id": "02e2d311",
   "metadata": {},
   "outputs": [],
   "source": []
  }
 ],
 "metadata": {
  "kernelspec": {
   "display_name": "base",
   "language": "python",
   "name": "python3"
  },
  "language_info": {
   "codemirror_mode": {
    "name": "ipython",
    "version": 3
   },
   "file_extension": ".py",
   "mimetype": "text/x-python",
   "name": "python",
   "nbconvert_exporter": "python",
   "pygments_lexer": "ipython3",
   "version": "3.13.5"
  }
 },
 "nbformat": 4,
 "nbformat_minor": 5
}
